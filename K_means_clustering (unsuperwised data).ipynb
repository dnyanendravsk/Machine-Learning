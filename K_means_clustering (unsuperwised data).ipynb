{
 "cells": [
  {
   "cell_type": "code",
   "execution_count": 1,
   "id": "385dd974",
   "metadata": {},
   "outputs": [],
   "source": [
    "import pandas as pd\n",
    "A = pd.read_csv(\"C:/Users/Pawan/Downloads/Cars93.csv\")"
   ]
  },
  {
   "cell_type": "code",
   "execution_count": 2,
   "id": "ddcfbf5f",
   "metadata": {},
   "outputs": [
    {
     "data": {
      "text/html": [
       "<div>\n",
       "<style scoped>\n",
       "    .dataframe tbody tr th:only-of-type {\n",
       "        vertical-align: middle;\n",
       "    }\n",
       "\n",
       "    .dataframe tbody tr th {\n",
       "        vertical-align: top;\n",
       "    }\n",
       "\n",
       "    .dataframe thead th {\n",
       "        text-align: right;\n",
       "    }\n",
       "</style>\n",
       "<table border=\"1\" class=\"dataframe\">\n",
       "  <thead>\n",
       "    <tr style=\"text-align: right;\">\n",
       "      <th></th>\n",
       "      <th>id</th>\n",
       "      <th>Manufacturer</th>\n",
       "      <th>Model</th>\n",
       "      <th>Type</th>\n",
       "      <th>Min.Price</th>\n",
       "      <th>Price</th>\n",
       "      <th>Max.Price</th>\n",
       "      <th>MPG.city</th>\n",
       "      <th>MPG.highway</th>\n",
       "      <th>AirBags</th>\n",
       "      <th>...</th>\n",
       "      <th>Passengers</th>\n",
       "      <th>Length</th>\n",
       "      <th>Wheelbase</th>\n",
       "      <th>Width</th>\n",
       "      <th>Turn.circle</th>\n",
       "      <th>Rear.seat.room</th>\n",
       "      <th>Luggage.room</th>\n",
       "      <th>Weight</th>\n",
       "      <th>Origin</th>\n",
       "      <th>Make</th>\n",
       "    </tr>\n",
       "  </thead>\n",
       "  <tbody>\n",
       "    <tr>\n",
       "      <th>0</th>\n",
       "      <td>1</td>\n",
       "      <td>Acura</td>\n",
       "      <td>Integra</td>\n",
       "      <td>Small</td>\n",
       "      <td>12.9</td>\n",
       "      <td>15.9</td>\n",
       "      <td>18.8</td>\n",
       "      <td>25</td>\n",
       "      <td>31</td>\n",
       "      <td>None</td>\n",
       "      <td>...</td>\n",
       "      <td>5</td>\n",
       "      <td>177</td>\n",
       "      <td>102</td>\n",
       "      <td>68</td>\n",
       "      <td>37</td>\n",
       "      <td>26.5</td>\n",
       "      <td>11.0</td>\n",
       "      <td>2705</td>\n",
       "      <td>non-USA</td>\n",
       "      <td>Acura Integra</td>\n",
       "    </tr>\n",
       "    <tr>\n",
       "      <th>1</th>\n",
       "      <td>2</td>\n",
       "      <td>Acura</td>\n",
       "      <td>Legend</td>\n",
       "      <td>Midsize</td>\n",
       "      <td>29.2</td>\n",
       "      <td>33.9</td>\n",
       "      <td>38.7</td>\n",
       "      <td>18</td>\n",
       "      <td>25</td>\n",
       "      <td>Driver &amp; Passenger</td>\n",
       "      <td>...</td>\n",
       "      <td>5</td>\n",
       "      <td>195</td>\n",
       "      <td>115</td>\n",
       "      <td>71</td>\n",
       "      <td>38</td>\n",
       "      <td>30.0</td>\n",
       "      <td>15.0</td>\n",
       "      <td>3560</td>\n",
       "      <td>non-USA</td>\n",
       "      <td>Acura Legend</td>\n",
       "    </tr>\n",
       "    <tr>\n",
       "      <th>2</th>\n",
       "      <td>3</td>\n",
       "      <td>Audi</td>\n",
       "      <td>90</td>\n",
       "      <td>Compact</td>\n",
       "      <td>25.9</td>\n",
       "      <td>29.1</td>\n",
       "      <td>32.3</td>\n",
       "      <td>20</td>\n",
       "      <td>26</td>\n",
       "      <td>Driver only</td>\n",
       "      <td>...</td>\n",
       "      <td>5</td>\n",
       "      <td>180</td>\n",
       "      <td>102</td>\n",
       "      <td>67</td>\n",
       "      <td>37</td>\n",
       "      <td>28.0</td>\n",
       "      <td>14.0</td>\n",
       "      <td>3375</td>\n",
       "      <td>non-USA</td>\n",
       "      <td>Audi 90</td>\n",
       "    </tr>\n",
       "    <tr>\n",
       "      <th>3</th>\n",
       "      <td>4</td>\n",
       "      <td>Audi</td>\n",
       "      <td>100</td>\n",
       "      <td>Midsize</td>\n",
       "      <td>30.8</td>\n",
       "      <td>37.7</td>\n",
       "      <td>44.6</td>\n",
       "      <td>19</td>\n",
       "      <td>26</td>\n",
       "      <td>NaN</td>\n",
       "      <td>...</td>\n",
       "      <td>6</td>\n",
       "      <td>193</td>\n",
       "      <td>106</td>\n",
       "      <td>70</td>\n",
       "      <td>37</td>\n",
       "      <td>31.0</td>\n",
       "      <td>17.0</td>\n",
       "      <td>3405</td>\n",
       "      <td>non-USA</td>\n",
       "      <td>Audi 100</td>\n",
       "    </tr>\n",
       "    <tr>\n",
       "      <th>4</th>\n",
       "      <td>5</td>\n",
       "      <td>BMW</td>\n",
       "      <td>535i</td>\n",
       "      <td>Midsize</td>\n",
       "      <td>23.7</td>\n",
       "      <td>30.0</td>\n",
       "      <td>36.2</td>\n",
       "      <td>22</td>\n",
       "      <td>30</td>\n",
       "      <td>Driver only</td>\n",
       "      <td>...</td>\n",
       "      <td>4</td>\n",
       "      <td>186</td>\n",
       "      <td>109</td>\n",
       "      <td>69</td>\n",
       "      <td>39</td>\n",
       "      <td>27.0</td>\n",
       "      <td>13.0</td>\n",
       "      <td>3640</td>\n",
       "      <td>non-USA</td>\n",
       "      <td>BMW 535i</td>\n",
       "    </tr>\n",
       "  </tbody>\n",
       "</table>\n",
       "<p>5 rows × 28 columns</p>\n",
       "</div>"
      ],
      "text/plain": [
       "   id Manufacturer    Model     Type  Min.Price  Price  Max.Price  MPG.city  \\\n",
       "0   1        Acura  Integra    Small       12.9   15.9       18.8        25   \n",
       "1   2        Acura   Legend  Midsize       29.2   33.9       38.7        18   \n",
       "2   3         Audi       90  Compact       25.9   29.1       32.3        20   \n",
       "3   4         Audi      100  Midsize       30.8   37.7       44.6        19   \n",
       "4   5          BMW     535i  Midsize       23.7   30.0       36.2        22   \n",
       "\n",
       "   MPG.highway             AirBags  ... Passengers Length  Wheelbase  Width  \\\n",
       "0           31                None  ...          5    177        102     68   \n",
       "1           25  Driver & Passenger  ...          5    195        115     71   \n",
       "2           26         Driver only  ...          5    180        102     67   \n",
       "3           26                 NaN  ...          6    193        106     70   \n",
       "4           30         Driver only  ...          4    186        109     69   \n",
       "\n",
       "   Turn.circle  Rear.seat.room Luggage.room  Weight   Origin           Make  \n",
       "0           37            26.5         11.0    2705  non-USA  Acura Integra  \n",
       "1           38            30.0         15.0    3560  non-USA   Acura Legend  \n",
       "2           37            28.0         14.0    3375  non-USA        Audi 90  \n",
       "3           37            31.0         17.0    3405  non-USA       Audi 100  \n",
       "4           39            27.0         13.0    3640  non-USA       BMW 535i  \n",
       "\n",
       "[5 rows x 28 columns]"
      ]
     },
     "execution_count": 2,
     "metadata": {},
     "output_type": "execute_result"
    }
   ],
   "source": [
    "A.head()"
   ]
  },
  {
   "cell_type": "code",
   "execution_count": 3,
   "id": "58de59ba",
   "metadata": {},
   "outputs": [
    {
     "data": {
      "text/html": [
       "<div>\n",
       "<style scoped>\n",
       "    .dataframe tbody tr th:only-of-type {\n",
       "        vertical-align: middle;\n",
       "    }\n",
       "\n",
       "    .dataframe tbody tr th {\n",
       "        vertical-align: top;\n",
       "    }\n",
       "\n",
       "    .dataframe thead th {\n",
       "        text-align: right;\n",
       "    }\n",
       "</style>\n",
       "<table border=\"1\" class=\"dataframe\">\n",
       "  <thead>\n",
       "    <tr style=\"text-align: right;\">\n",
       "      <th></th>\n",
       "      <th>Price</th>\n",
       "      <th>MPG.city</th>\n",
       "    </tr>\n",
       "  </thead>\n",
       "  <tbody>\n",
       "    <tr>\n",
       "      <th>0</th>\n",
       "      <td>15.9</td>\n",
       "      <td>25</td>\n",
       "    </tr>\n",
       "    <tr>\n",
       "      <th>1</th>\n",
       "      <td>33.9</td>\n",
       "      <td>18</td>\n",
       "    </tr>\n",
       "    <tr>\n",
       "      <th>2</th>\n",
       "      <td>29.1</td>\n",
       "      <td>20</td>\n",
       "    </tr>\n",
       "    <tr>\n",
       "      <th>3</th>\n",
       "      <td>37.7</td>\n",
       "      <td>19</td>\n",
       "    </tr>\n",
       "    <tr>\n",
       "      <th>4</th>\n",
       "      <td>30.0</td>\n",
       "      <td>22</td>\n",
       "    </tr>\n",
       "    <tr>\n",
       "      <th>...</th>\n",
       "      <td>...</td>\n",
       "      <td>...</td>\n",
       "    </tr>\n",
       "    <tr>\n",
       "      <th>88</th>\n",
       "      <td>19.7</td>\n",
       "      <td>17</td>\n",
       "    </tr>\n",
       "    <tr>\n",
       "      <th>89</th>\n",
       "      <td>20.0</td>\n",
       "      <td>21</td>\n",
       "    </tr>\n",
       "    <tr>\n",
       "      <th>90</th>\n",
       "      <td>23.3</td>\n",
       "      <td>18</td>\n",
       "    </tr>\n",
       "    <tr>\n",
       "      <th>91</th>\n",
       "      <td>22.7</td>\n",
       "      <td>21</td>\n",
       "    </tr>\n",
       "    <tr>\n",
       "      <th>92</th>\n",
       "      <td>26.7</td>\n",
       "      <td>20</td>\n",
       "    </tr>\n",
       "  </tbody>\n",
       "</table>\n",
       "<p>93 rows × 2 columns</p>\n",
       "</div>"
      ],
      "text/plain": [
       "    Price  MPG.city\n",
       "0    15.9        25\n",
       "1    33.9        18\n",
       "2    29.1        20\n",
       "3    37.7        19\n",
       "4    30.0        22\n",
       "..    ...       ...\n",
       "88   19.7        17\n",
       "89   20.0        21\n",
       "90   23.3        18\n",
       "91   22.7        21\n",
       "92   26.7        20\n",
       "\n",
       "[93 rows x 2 columns]"
      ]
     },
     "execution_count": 3,
     "metadata": {},
     "output_type": "execute_result"
    }
   ],
   "source": [
    "A[[\"Price\",\"MPG.city\"]]"
   ]
  },
  {
   "cell_type": "markdown",
   "id": "572af087",
   "metadata": {},
   "source": [
    "# standardization"
   ]
  },
  {
   "cell_type": "code",
   "execution_count": 4,
   "id": "1d9ac8a6",
   "metadata": {},
   "outputs": [],
   "source": [
    "from sklearn.preprocessing import MinMaxScaler\n",
    "mm = MinMaxScaler()\n",
    "Q = pd.DataFrame(mm.fit_transform(A[[\"Price\",\"MPG.city\"]]),columns=[\"Price\",\"MPG.city\"])"
   ]
  },
  {
   "cell_type": "code",
   "execution_count": 5,
   "id": "345fcd7e",
   "metadata": {},
   "outputs": [
    {
     "data": {
      "text/html": [
       "<div>\n",
       "<style scoped>\n",
       "    .dataframe tbody tr th:only-of-type {\n",
       "        vertical-align: middle;\n",
       "    }\n",
       "\n",
       "    .dataframe tbody tr th {\n",
       "        vertical-align: top;\n",
       "    }\n",
       "\n",
       "    .dataframe thead th {\n",
       "        text-align: right;\n",
       "    }\n",
       "</style>\n",
       "<table border=\"1\" class=\"dataframe\">\n",
       "  <thead>\n",
       "    <tr style=\"text-align: right;\">\n",
       "      <th></th>\n",
       "      <th>Price</th>\n",
       "      <th>MPG.city</th>\n",
       "    </tr>\n",
       "  </thead>\n",
       "  <tbody>\n",
       "    <tr>\n",
       "      <th>0</th>\n",
       "      <td>0.155963</td>\n",
       "      <td>0.322581</td>\n",
       "    </tr>\n",
       "    <tr>\n",
       "      <th>1</th>\n",
       "      <td>0.486239</td>\n",
       "      <td>0.096774</td>\n",
       "    </tr>\n",
       "    <tr>\n",
       "      <th>2</th>\n",
       "      <td>0.398165</td>\n",
       "      <td>0.161290</td>\n",
       "    </tr>\n",
       "    <tr>\n",
       "      <th>3</th>\n",
       "      <td>0.555963</td>\n",
       "      <td>0.129032</td>\n",
       "    </tr>\n",
       "    <tr>\n",
       "      <th>4</th>\n",
       "      <td>0.414679</td>\n",
       "      <td>0.225806</td>\n",
       "    </tr>\n",
       "    <tr>\n",
       "      <th>...</th>\n",
       "      <td>...</td>\n",
       "      <td>...</td>\n",
       "    </tr>\n",
       "    <tr>\n",
       "      <th>88</th>\n",
       "      <td>0.225688</td>\n",
       "      <td>0.064516</td>\n",
       "    </tr>\n",
       "    <tr>\n",
       "      <th>89</th>\n",
       "      <td>0.231193</td>\n",
       "      <td>0.193548</td>\n",
       "    </tr>\n",
       "    <tr>\n",
       "      <th>90</th>\n",
       "      <td>0.291743</td>\n",
       "      <td>0.096774</td>\n",
       "    </tr>\n",
       "    <tr>\n",
       "      <th>91</th>\n",
       "      <td>0.280734</td>\n",
       "      <td>0.193548</td>\n",
       "    </tr>\n",
       "    <tr>\n",
       "      <th>92</th>\n",
       "      <td>0.354128</td>\n",
       "      <td>0.161290</td>\n",
       "    </tr>\n",
       "  </tbody>\n",
       "</table>\n",
       "<p>93 rows × 2 columns</p>\n",
       "</div>"
      ],
      "text/plain": [
       "       Price  MPG.city\n",
       "0   0.155963  0.322581\n",
       "1   0.486239  0.096774\n",
       "2   0.398165  0.161290\n",
       "3   0.555963  0.129032\n",
       "4   0.414679  0.225806\n",
       "..       ...       ...\n",
       "88  0.225688  0.064516\n",
       "89  0.231193  0.193548\n",
       "90  0.291743  0.096774\n",
       "91  0.280734  0.193548\n",
       "92  0.354128  0.161290\n",
       "\n",
       "[93 rows x 2 columns]"
      ]
     },
     "execution_count": 5,
     "metadata": {},
     "output_type": "execute_result"
    }
   ],
   "source": [
    "Q"
   ]
  },
  {
   "cell_type": "markdown",
   "id": "e101325f",
   "metadata": {},
   "source": [
    "# Kmeans_clustering"
   ]
  },
  {
   "cell_type": "code",
   "execution_count": 6,
   "id": "01225961",
   "metadata": {},
   "outputs": [
    {
     "data": {
      "text/plain": [
       "array([3, 2, 1, 2, 1, 3, 1, 1, 1, 2, 2, 3, 3, 3, 3, 1, 1, 1, 2, 1, 3, 1,\n",
       "       0, 3, 3, 1, 3, 1, 0, 1, 0, 3, 3, 3, 3, 1, 1, 1, 4, 0, 3, 4, 3, 0,\n",
       "       3, 0, 3, 2, 1, 2, 2, 2, 0, 0, 3, 1, 2, 2, 2, 3, 3, 0, 1, 0, 3, 1,\n",
       "       1, 3, 3, 1, 1, 3, 0, 3, 1, 1, 1, 1, 0, 0, 3, 3, 4, 0, 3, 3, 1, 3,\n",
       "       1, 1, 1, 1, 1])"
      ]
     },
     "execution_count": 6,
     "metadata": {},
     "output_type": "execute_result"
    }
   ],
   "source": [
    "from sklearn.cluster import KMeans\n",
    "km = KMeans(n_clusters=5)\n",
    "model = km.fit(Q)\n",
    "model.labels_"
   ]
  },
  {
   "cell_type": "code",
   "execution_count": null,
   "id": "72ac28a3",
   "metadata": {},
   "outputs": [],
   "source": []
  },
  {
   "cell_type": "code",
   "execution_count": 7,
   "id": "6ca887a2",
   "metadata": {},
   "outputs": [
    {
     "name": "stderr",
     "output_type": "stream",
     "text": [
      "<ipython-input-7-cf272972147a>:2: SettingWithCopyWarning: \n",
      "A value is trying to be set on a copy of a slice from a DataFrame.\n",
      "Try using .loc[row_indexer,col_indexer] = value instead\n",
      "\n",
      "See the caveats in the documentation: https://pandas.pydata.org/pandas-docs/stable/user_guide/indexing.html#returning-a-view-versus-a-copy\n",
      "  W['Cluster'] = model.labels_\n",
      "<ipython-input-7-cf272972147a>:3: SettingWithCopyWarning: \n",
      "A value is trying to be set on a copy of a slice from a DataFrame.\n",
      "Try using .loc[row_indexer,col_indexer] = value instead\n",
      "\n",
      "See the caveats in the documentation: https://pandas.pydata.org/pandas-docs/stable/user_guide/indexing.html#returning-a-view-versus-a-copy\n",
      "  W['Model'] = A.Make\n"
     ]
    }
   ],
   "source": [
    "W = A[[\"Price\",\"MPG.city\"]]\n",
    "W['Cluster'] = model.labels_\n",
    "W['Model'] = A.Make\n"
   ]
  },
  {
   "cell_type": "raw",
   "id": "9b505230",
   "metadata": {},
   "source": [
    "for make of car_Acura Integra"
   ]
  },
  {
   "cell_type": "code",
   "execution_count": 8,
   "id": "84a5305a",
   "metadata": {},
   "outputs": [
    {
     "name": "stdout",
     "output_type": "stream",
     "text": [
      "select your car, and we wil give you recommendations for similar cars also: Audi 90\n"
     ]
    }
   ],
   "source": [
    "a = input(\"select your car, and we wil give you recommendations for similar cars also: \")\n",
    "cluster_number = W[W.Model == a].Cluster.values[0]\n",
    "similar_cars = list(W[W.Cluster == cluster_number].Model)"
   ]
  },
  {
   "cell_type": "code",
   "execution_count": 9,
   "id": "bae8385c",
   "metadata": {},
   "outputs": [
    {
     "data": {
      "text/plain": [
       "['Audi 90',\n",
       " 'BMW 535i',\n",
       " 'Buick LeSabre',\n",
       " 'Buick Roadmaster',\n",
       " 'Buick Riviera',\n",
       " 'Chevrolet Lumina_APV',\n",
       " 'Chevrolet Astro',\n",
       " 'Chevrolet Caprice',\n",
       " 'Chrylser Concorde',\n",
       " 'Chrysler Imperial',\n",
       " 'Dodge Caravan',\n",
       " 'Dodge Stealth',\n",
       " 'Eagle Vision',\n",
       " 'Ford Aerostar',\n",
       " 'Ford Taurus',\n",
       " 'Ford Crown_Victoria',\n",
       " 'Lexus ES300',\n",
       " 'Mazda MPV',\n",
       " 'Mitsubishi Diamante',\n",
       " 'Nissan Quest',\n",
       " 'Nissan Maxima',\n",
       " 'Oldsmobile Silhouette',\n",
       " 'Oldsmobile Eighty-Eight',\n",
       " 'Pontiac Firebird',\n",
       " 'Pontiac Grand_Prix',\n",
       " 'Pontiac Bonneville',\n",
       " 'Saab 900',\n",
       " 'Toyota Previa',\n",
       " 'Volkswagen Eurovan',\n",
       " 'Volkswagen Passat',\n",
       " 'Volkswagen Corrado',\n",
       " 'Volvo 240',\n",
       " 'Volvo 850']"
      ]
     },
     "execution_count": 9,
     "metadata": {},
     "output_type": "execute_result"
    }
   ],
   "source": [
    "similar_cars"
   ]
  },
  {
   "cell_type": "raw",
   "id": "54a1f1f7",
   "metadata": {},
   "source": [
    "for make of car_Audi 90"
   ]
  },
  {
   "cell_type": "code",
   "execution_count": 18,
   "id": "dd292e68",
   "metadata": {},
   "outputs": [
    {
     "name": "stdout",
     "output_type": "stream",
     "text": [
      "select your car, and we wil give you recommendations for similar cars also: Acura Integra\n"
     ]
    }
   ],
   "source": [
    "a = input(\"select your car, and we wil give you recommendations for similar cars also: \")\n",
    "cluster_number = W[W.Model == a].Cluster.values[0]\n",
    "similar_cars = list(W[W.Cluster == cluster_number].Model)"
   ]
  },
  {
   "cell_type": "code",
   "execution_count": 19,
   "id": "92b1e5fa",
   "metadata": {},
   "outputs": [
    {
     "data": {
      "text/plain": [
       "['Acura Integra',\n",
       " 'Buick Century',\n",
       " 'Chevrolet Cavalier',\n",
       " 'Chevrolet Corsica',\n",
       " 'Chevrolet Camaro',\n",
       " 'Chevrolet Lumina',\n",
       " 'Chrysler LeBaron',\n",
       " 'Dodge Shadow',\n",
       " 'Dodge Spirit',\n",
       " 'Dodge Dynasty',\n",
       " 'Ford Escort',\n",
       " 'Ford Tempo',\n",
       " 'Ford Mustang',\n",
       " 'Ford Probe',\n",
       " 'Honda Prelude',\n",
       " 'Honda Accord',\n",
       " 'Hyundai Elantra',\n",
       " 'Hyundai Sonata',\n",
       " 'Mazda 626',\n",
       " 'Mercury Capri',\n",
       " 'Mercury Cougar',\n",
       " 'Nissan Altima',\n",
       " 'Oldsmobile Achieva',\n",
       " 'Oldsmobile Cutlass_Ciera',\n",
       " 'Plymouth Laser',\n",
       " 'Pontiac Sunbird',\n",
       " 'Subaru Loyale',\n",
       " 'Subaru Legacy',\n",
       " 'Toyota Celica',\n",
       " 'Toyota Camry',\n",
       " 'Volkswagen Fox']"
      ]
     },
     "execution_count": 19,
     "metadata": {},
     "output_type": "execute_result"
    }
   ],
   "source": [
    "similar_cars"
   ]
  },
  {
   "cell_type": "markdown",
   "id": "ac6afd79",
   "metadata": {},
   "source": [
    "# Elbow Curve(X(K),Y(WCSS|Inertia))"
   ]
  },
  {
   "cell_type": "code",
   "execution_count": 32,
   "id": "e54646cc",
   "metadata": {},
   "outputs": [
    {
     "name": "stderr",
     "output_type": "stream",
     "text": [
      "C:\\Users\\Pawan\\anaconda3\\lib\\site-packages\\sklearn\\cluster\\_kmeans.py:881: UserWarning: KMeans is known to have a memory leak on Windows with MKL, when there are less chunks than available threads. You can avoid it by setting the environment variable OMP_NUM_THREADS=1.\n",
      "  warnings.warn(\n"
     ]
    }
   ],
   "source": [
    "WCSS = []\n",
    "K = range(1,20,1)\n",
    "for i in K:\n",
    "    km = KMeans(n_clusters=i)\n",
    "    model = km.fit(Q)\n",
    "    WCSS.append(model.inertia_)"
   ]
  },
  {
   "cell_type": "code",
   "execution_count": 33,
   "id": "cc4cc4c9",
   "metadata": {},
   "outputs": [
    {
     "data": {
      "text/plain": [
       "([<matplotlib.axis.XTick at 0x162dd71bee0>,\n",
       "  <matplotlib.axis.XTick at 0x162dd71beb0>,\n",
       "  <matplotlib.axis.XTick at 0x162dd6fcb80>,\n",
       "  <matplotlib.axis.XTick at 0x162dd72fee0>,\n",
       "  <matplotlib.axis.XTick at 0x162dd736460>,\n",
       "  <matplotlib.axis.XTick at 0x162dd7367f0>,\n",
       "  <matplotlib.axis.XTick at 0x162dd736a90>,\n",
       "  <matplotlib.axis.XTick at 0x162dd736fa0>,\n",
       "  <matplotlib.axis.XTick at 0x162dd73e4f0>,\n",
       "  <matplotlib.axis.XTick at 0x162dd73e9a0>,\n",
       "  <matplotlib.axis.XTick at 0x162dd73eeb0>,\n",
       "  <matplotlib.axis.XTick at 0x162dd743400>,\n",
       "  <matplotlib.axis.XTick at 0x162dd743910>,\n",
       "  <matplotlib.axis.XTick at 0x162dd743e20>,\n",
       "  <matplotlib.axis.XTick at 0x162dd73e220>,\n",
       "  <matplotlib.axis.XTick at 0x162dd743f10>,\n",
       "  <matplotlib.axis.XTick at 0x162dd743fd0>,\n",
       "  <matplotlib.axis.XTick at 0x162dd74a520>,\n",
       "  <matplotlib.axis.XTick at 0x162dd74aa30>],\n",
       " [Text(0, 0, ''),\n",
       "  Text(0, 0, ''),\n",
       "  Text(0, 0, ''),\n",
       "  Text(0, 0, ''),\n",
       "  Text(0, 0, ''),\n",
       "  Text(0, 0, ''),\n",
       "  Text(0, 0, ''),\n",
       "  Text(0, 0, ''),\n",
       "  Text(0, 0, ''),\n",
       "  Text(0, 0, ''),\n",
       "  Text(0, 0, ''),\n",
       "  Text(0, 0, ''),\n",
       "  Text(0, 0, ''),\n",
       "  Text(0, 0, ''),\n",
       "  Text(0, 0, ''),\n",
       "  Text(0, 0, ''),\n",
       "  Text(0, 0, ''),\n",
       "  Text(0, 0, ''),\n",
       "  Text(0, 0, '')])"
      ]
     },
     "execution_count": 33,
     "metadata": {},
     "output_type": "execute_result"
    },
    {
     "data": {
      "image/png": "[encoded data removed]",
      "text/plain": [
       "<Figure size 432x288 with 1 Axes>"
      ]
     },
     "metadata": {
      "needs_background": "light"
     },
     "output_type": "display_data"
    }
   ],
   "source": [
    "import matplotlib.pyplot as plt\n",
    "plt.scatter(K,WCSS,c=\"red\")\n",
    "plt.plot(K,WCSS,c=\"green\")\n",
    "plt.xticks(range(1,20,1))"
   ]
  },
  {
   "cell_type": "code",
   "execution_count": 22,
   "id": "9b8614a4",
   "metadata": {},
   "outputs": [],
   "source": [
    "W1 = pd.DataFrame(model.cluster_centers_,columns=[\"X\",\"Y\"])"
   ]
  },
  {
   "cell_type": "code",
   "execution_count": 34,
   "id": "d08809f6",
   "metadata": {},
   "outputs": [
    {
     "data": {
      "text/plain": [
       "<matplotlib.collections.PathCollection at 0x162dd7a3610>"
      ]
     },
     "execution_count": 34,
     "metadata": {},
     "output_type": "execute_result"
    },
    {
     "data": {
      "image/png": "[encoded data removed]",
      "text/plain": [
       "<Figure size 432x288 with 1 Axes>"
      ]
     },
     "metadata": {
      "needs_background": "light"
     },
     "output_type": "display_data"
    }
   ],
   "source": [
    "plt.scatter(Q.Price,Q['MPG.city'],c=W.Cluster)\n",
    "plt.scatter(W1.X,W1.Y,c=\"red\",s=100,marker=\"+\")"
   ]
  },
  {
   "cell_type": "code",
   "execution_count": 25,
   "id": "ebc684ac",
   "metadata": {},
   "outputs": [
    {
     "data": {
      "text/plain": [
       "array([[0.25537948, 0.1143695 ],\n",
       "       [0.04718218, 0.46774194],\n",
       "       [0.55058978, 0.10138249],\n",
       "       [0.12900981, 0.26585095],\n",
       "       [0.04220183, 0.88172043]])"
      ]
     },
     "execution_count": 25,
     "metadata": {},
     "output_type": "execute_result"
    }
   ],
   "source": [
    "from sklearn.cluster import KMeans\n",
    "km = KMeans(n_clusters=5)\n",
    "model = km.fit(Q)\n",
    "model.cluster_centers_"
   ]
  },
  {
   "cell_type": "code",
   "execution_count": null,
   "id": "8a7e67a3",
   "metadata": {},
   "outputs": [],
   "source": []
  }
 ],
 "metadata": {
  "kernelspec": {
   "display_name": "Python 3 (ipykernel)",
   "language": "python",
   "name": "python3"
  },
  "language_info": {
   "codemirror_mode": {
    "name": "ipython",
    "version": 3
   },
   "file_extension": ".py",
   "mimetype": "text/x-python",
   "name": "python",
   "nbconvert_exporter": "python",
   "pygments_lexer": "ipython3",
   "version": "3.8.12"
  }
 },
 "nbformat": 4,
 "nbformat_minor": 5
}
